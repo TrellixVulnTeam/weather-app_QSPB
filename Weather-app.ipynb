{
 "cells": [
  {
   "cell_type": "code",
   "execution_count": 646,
   "metadata": {},
   "outputs": [],
   "source": [
    "import credentials\n",
    "import oauth2 as oauth\n",
    "import urllib3\n",
    "import json\n",
    "import pytemperature\n",
    "import googlemaps\n",
    "import pprint\n",
    "from datetime import datetime\n",
    "import datetime\n"
   ]
  },
  {
   "cell_type": "code",
   "execution_count": 676,
   "metadata": {},
   "outputs": [],
   "source": [
    "def convertms2mph(num):\n",
    "    perHour=num*(3600/1)\n",
    "    perHour=num*(3600/1)\n",
    "    return perHour/1609\n",
    "\n",
    "def amORpm():\n",
    "    currentDT = datetime.datetime.now()\n",
    "    hour=23\n",
    "#     hour=\"%d\" % currentDT.hour\n",
    "\n",
    "    if 0<=int(hour)<=6:\n",
    "        icon=\"night\"\n",
    "        return icon\n",
    "    elif 6<=int(hour)<=18:\n",
    "        icon=\"day\"\n",
    "        return icon\n",
    "    else:\n",
    "        icon=\"night\"\n",
    "        return icon\n"
   ]
  },
  {
   "cell_type": "code",
   "execution_count": 605,
   "metadata": {
    "scrolled": false
   },
   "outputs": [],
   "source": [
    "results=[]\n",
    "http = urllib3.PoolManager()\n",
    "for url in links:\n",
    "    r = http.request('GET', url)\n",
    "    data=json.loads(r.data)\n",
    "    results.append(data)"
   ]
  },
  {
   "cell_type": "code",
   "execution_count": 606,
   "metadata": {},
   "outputs": [
    {
     "data": {
      "text/plain": [
       "{'coord': {'lon': -118.24, 'lat': 34.05},\n",
       " 'weather': [{'id': 500,\n",
       "   'main': 'Rain',\n",
       "   'description': 'light rain',\n",
       "   'icon': '10d'}],\n",
       " 'base': 'stations',\n",
       " 'main': {'temp': 287.86,\n",
       "  'pressure': 1017,\n",
       "  'humidity': 51,\n",
       "  'temp_min': 285.37,\n",
       "  'temp_max': 290.37},\n",
       " 'visibility': 16093,\n",
       " 'wind': {'speed': 3.1, 'deg': 100},\n",
       " 'rain': {'1h': 0.25},\n",
       " 'clouds': {'all': 90},\n",
       " 'dt': 1552163791,\n",
       " 'sys': {'type': 1,\n",
       "  'id': 3694,\n",
       "  'message': 0.0076,\n",
       "  'country': 'US',\n",
       "  'sunrise': 1552140626,\n",
       "  'sunset': 1552182992},\n",
       " 'id': 5368361,\n",
       " 'name': 'Los Angeles',\n",
       " 'cod': 200}"
      ]
     },
     "execution_count": 606,
     "metadata": {},
     "output_type": "execute_result"
    }
   ],
   "source": [
    "# main=results['list'][0]\n",
    "results[1]\n"
   ]
  },
  {
   "cell_type": "code",
   "execution_count": 311,
   "metadata": {},
   "outputs": [
    {
     "data": {
      "text/plain": [
       "275.01"
      ]
     },
     "execution_count": 311,
     "metadata": {},
     "output_type": "execute_result"
    }
   ],
   "source": [
    "results[1]"
   ]
  },
  {
   "cell_type": "code",
   "execution_count": 666,
   "metadata": {},
   "outputs": [],
   "source": [
    "\n",
    "#current temp\n",
    "temp=results[1][\"main\"][\"temp_min\"]\n",
    "fahrenheit=pytemperature.k2f(temp)\n",
    "\n",
    "#tonight temp\n",
    "temp_night=results[0]['list'][2][\"main\"][\"temp_min\"]\n",
    "fahrenheit2=pytemperature.k2f(temp_night)\n",
    "\n",
    "#tomorrow temp\n",
    "tomorrow=results[0]['list'][5][\"main\"][\"temp_max\"]\n",
    "fahrenheit3=pytemperature.k2f(tomorrow)\n",
    "\n",
    "\n",
    "#current speed\n",
    "speed=results[1][\"wind\"][\"speed\"]\n",
    "mph=round(convertms2mph(speed))\n",
    "\n",
    "#current humidity\n",
    "humidity=results[0][\"list\"][1]['main']['humidity']\n",
    "\n",
    "#current cloud\n",
    "cover=results[1][\"weather\"][0][\"description\"]\n",
    "\n",
    "#current id\n",
    "ids=results[1][\"weather\"][0]['id']\n",
    "\n",
    "#tomorrow id\n",
    "ids2=results[0]['list'][5][\"weather\"][0]['id']\n",
    "\n",
    "#current amORpm\n",
    "time=amORpm()"
   ]
  },
  {
   "cell_type": "code",
   "execution_count": 667,
   "metadata": {},
   "outputs": [
    {
     "data": {
      "text/plain": [
       "{'current': 53.98,\n",
       " 'tonight': 42.71,\n",
       " 'wind': 7,\n",
       " 'humidity': 57,\n",
       " 'description': 'light rain',\n",
       " 'id': 500,\n",
       " 'tomorrow': 37.34,\n",
       " 'current_time': 'night'}"
      ]
     },
     "execution_count": 667,
     "metadata": {},
     "output_type": "execute_result"
    }
   ],
   "source": [
    "dict_main={\"current\":fahrenheit,\"tonight\":fahrenheit2,\"wind\":mph,\"humidity\":humidity,\"description\":cover,\"id\":ids,\"tomorrow\":fahrenheit3,\"current_time\":time}\n",
    "dict_main"
   ]
  },
  {
   "cell_type": "code",
   "execution_count": 677,
   "metadata": {},
   "outputs": [
    {
     "data": {
      "text/plain": [
       "'night'"
      ]
     },
     "execution_count": 677,
     "metadata": {},
     "output_type": "execute_result"
    }
   ],
   "source": [
    "amORpm()"
   ]
  },
  {
   "cell_type": "code",
   "execution_count": null,
   "metadata": {},
   "outputs": [],
   "source": []
  }
 ],
 "metadata": {
  "kernelspec": {
   "display_name": "Python 3",
   "language": "python",
   "name": "python3"
  },
  "language_info": {
   "codemirror_mode": {
    "name": "ipython",
    "version": 3
   },
   "file_extension": ".py",
   "mimetype": "text/x-python",
   "name": "python",
   "nbconvert_exporter": "python",
   "pygments_lexer": "ipython3",
   "version": "3.6.5"
  }
 },
 "nbformat": 4,
 "nbformat_minor": 2
}
